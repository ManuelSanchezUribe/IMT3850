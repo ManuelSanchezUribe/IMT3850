{
 "cells": [
  {
   "cell_type": "markdown",
   "id": "b3a6a0b9-9df0-4908-a6bd-b6ecd30826cf",
   "metadata": {},
   "source": [
    "<hr style=\"border:1px solid #FEC60D\"> </hr>\n",
    "<center><h1 style=\"color:#173F8A;\"> FUNDAMENTOS MATEMATICOS PARA INTELIGENCIA ARTIFICIAL</h1></center> \n",
    "<center><h1 style=\"color:#173F8A;\"> IMT 3850 </h1></center>\n",
    "<hr style=\"border:1px solid #FEC60D\"> </hr>\n",
    "<center><h3 style=\"color:#0176DE;text-align:right;\"> Profesor. Manuel A. Sanchez<br></h3></center>\n",
    "<h3 style=\"color:#03122E;text-align:right;\"> Magister en Inteligencia Artificial - MIA <br> Instituto de Ingenieria Matematica y Computacional - IMC<br>  Pontificia Universidad Catolica de Chile<br>   </h3>\n",
    "\n",
    "\n",
    "\n",
    "\n",
    "<!-- Palette colors UC:\n",
    "Primaria: \n",
    "celeste:#0176DE, azul #173F8A, azul oscuro: #03122E, amarillo: #FEC60D, amarillo oscuro: #E3AE00 \n",
    "Secundaria\n",
    "gris oscuro: #707070\n",
    "-->\n",
    "\n"
   ]
  },
  {
   "cell_type": "markdown",
   "id": "910aaa4b-74a7-4389-8666-1b075232e30a",
   "metadata": {},
   "source": [
    "<hr style=\"border:2px solid #03122E\"> </hr>\n",
    "<center><h1 style=\"color:#173F8A;\"> Algebra Lineal para IA - clase 3</h1></center> \n",
    "<hr style=\"border:2px solid #03122E\"> </hr>"
   ]
  },
  {
   "cell_type": "markdown",
   "id": "1adf010f-a917-4cd5-ab28-0ce0d72fa6e5",
   "metadata": {},
   "source": [
    "## Tabla de contenidos:\n",
    "1. [Ejemplo Metodo de Gram-Schmidt](#Ejemplo:-Gram-Schmidt\")\n",
    "2. [Ejemplo l.d. Metodo de Gram-Schmidt](#Ejemplo:-Gram-Schmidt-l.d.\")\n",
    "3. [Ejemplo: Gram-Schmidt comparacion](#Ejemplo:-Gram-Schmidt-comparacion)\n",
    "4. [Ejemplo: Algoritmo Householder](#Ejemplo:-Algoritmo-Householder)\n",
    "5. [Algoritmo rotaciones de Givens](#Algoritmo-rotaciones-de-Givens) \n",
    "\n"
   ]
  },
  {
   "cell_type": "code",
   "execution_count": 2,
   "id": "38152855-2203-420f-bef3-e44cb000f4cf",
   "metadata": {},
   "outputs": [
    {
     "data": {
      "text/html": [
       "<style>.output {display: flex;align-items: center;text-align: center;}</style>"
      ],
      "text/plain": [
       "<IPython.core.display.HTML object>"
      ]
     },
     "metadata": {},
     "output_type": "display_data"
    }
   ],
   "source": [
    "import numpy as np\n",
    "import scipy.linalg as lg\n",
    "import matplotlib.pyplot as plt\n",
    "import pandas as pd\n",
    "import sklearn as skl\n",
    "# !pip install threadpoolctl==3.2.0\n",
    "from IPython.display import display, HTML\n",
    "display(HTML(\"\"\"<style>.output {display: flex;align-items: center;text-align: center;}</style>\"\"\"))"
   ]
  },
  {
   "cell_type": "markdown",
   "id": "06381a00-d179-4cb6-90f7-87f5ba356106",
   "metadata": {},
   "source": [
    "## Ejemplo: Gram Schmidt\n",
    "\n",
    "**Ejemplo 1.** Sea las matrices\n",
    "\\begin{align*}\n",
    "A_1 &= \\begin{bmatrix}\n",
    "1/2 & 2 \\\\ 2 & 1 \\end{bmatrix}\n",
    "\\end{align*}"
   ]
  },
  {
   "cell_type": "code",
   "execution_count": 59,
   "id": "df41280b-e230-4d7c-9fd7-a267240af280",
   "metadata": {},
   "outputs": [],
   "source": [
    "def GramSchmidt_clasico(A):\n",
    "    m = A.shape[0]; n = A.shape[1];\n",
    "    R = np.zeros((n,n));\n",
    "    Q = np.zeros((m,n));\n",
    "    tol=1e-14\n",
    "    for j in range(0, n):\n",
    "        vj = A[:,j];\n",
    "        for i in range(0,j):\n",
    "            R[i,j] = np.dot(Q[:,i],A[:,j]);\n",
    "            vj = vj - R[i,j]*Q[:,i];\n",
    "        R[j,j] = np.linalg.norm(vj);\n",
    "        if R[j,j] < tol:\n",
    "            R[j,j] = 0 \n",
    "            answer = input(\"Se encontro un vector l.d. Desea continuar? Y/N\")\n",
    "            if answer==\"N\":\n",
    "                break\n",
    "        else:\n",
    "            Q[:,j] = (1.0/R[j,j])*vj\n",
    "    return Q, R"
   ]
  },
  {
   "cell_type": "code",
   "execution_count": 44,
   "id": "c59bb9f8-8e1e-4506-b724-14e4ebe38ff6",
   "metadata": {},
   "outputs": [
    {
     "name": "stdout",
     "output_type": "stream",
     "text": [
      "*** Factorizacion A1 = QR: *** \n",
      "    Q = \n",
      " [[ 0.24253563  0.9701425 ]\n",
      " [ 0.9701425  -0.24253563]] \n",
      "    R = \n",
      " [[2.06155281 1.45521375]\n",
      " [0.         1.69774938]]\n",
      "  * Calculamos A1 - QR = \n",
      " [[0.00000000e+00 2.22044605e-16]\n",
      " [0.00000000e+00 0.00000000e+00]]\n",
      "  * Chequeamos si Q es ortogonal: ||Q^T Q - I|| =  8.368033164341516e-17 \n",
      "\n"
     ]
    }
   ],
   "source": [
    "A1 = np.array([[0.5 ,2.0],[2.0, 1.0]],dtype=np.float64)\n",
    "Q1, R1 = GramSchmidt_clasico(A1)\n",
    "\n",
    "print(\"*** Factorizacion A1 = QR: *** \\n    Q = \\n\", Q1, \"\\n    R = \\n\", R1)\n",
    "print(\"  * Calculamos A1 - QR = \\n\", A1 - Q1@R1)\n",
    "print(\"  * Chequeamos si Q es ortogonal: ||Q^T Q - I|| = \", np.linalg.norm(Q1.T@Q1 - np.eye(2)), \"\\n\")"
   ]
  },
  {
   "cell_type": "markdown",
   "id": "2113e7b7-6b68-42fe-959d-d9c6d9a623a4",
   "metadata": {},
   "source": [
    "**Ejemplo 2.** Sea la matriz\n",
    "\\begin{equation}\n",
    "A_2 = \\begin{bmatrix}\n",
    "1 & 1 & 2 \\\\ 1 & 0 & -2 \\\\ -1 & 2 & 3 \\end{bmatrix}\n",
    "\\end{equation}"
   ]
  },
  {
   "cell_type": "code",
   "execution_count": 45,
   "id": "13bc5372-3784-49c4-beb5-3cb871e1c3b8",
   "metadata": {},
   "outputs": [
    {
     "name": "stdout",
     "output_type": "stream",
     "text": [
      "*** Factorizacion A2 = QR: *** \n",
      "    Q = \n",
      " [[ 0.57735027  0.6172134   0.53452248]\n",
      " [ 0.57735027  0.15430335 -0.80178373]\n",
      " [-0.57735027  0.77151675 -0.26726124]] \n",
      "    R = \n",
      " [[ 1.73205081 -0.57735027 -1.73205081]\n",
      " [ 0.          2.1602469   3.24037035]\n",
      " [ 0.          0.          1.87082869]]\n",
      "  * Calculamos A2 - QR = \n",
      " [[ 0.00000000e+00  0.00000000e+00  2.22044605e-16]\n",
      " [ 0.00000000e+00  5.96863333e-18 -2.22044605e-16]\n",
      " [ 0.00000000e+00  0.00000000e+00 -4.44089210e-16]]\n",
      "  * Chequeamos si Q es ortogonal: ||Q^T Q - I|| =  4.563891378090311e-16 \n",
      "\n"
     ]
    }
   ],
   "source": [
    "A2 = np.array([[1 ,1, 2],[1, 0, -2],[-1,2,3]],dtype=np.float64)\n",
    "Q2, R2 = GramSchmidt_clasico(A2)\n",
    "\n",
    "print(\"*** Factorizacion A2 = QR: *** \\n    Q = \\n\", Q2, \"\\n    R = \\n\", R2)\n",
    "print(\"  * Calculamos A2 - QR = \\n\", A2 - Q2@R2)\n",
    "print(\"  * Chequeamos si Q es ortogonal: ||Q^T Q - I|| = \", np.linalg.norm(Q2.T@Q2 - np.eye(3)), \"\\n\")"
   ]
  },
  {
   "cell_type": "markdown",
   "id": "c53c9564-b473-4796-8350-4509e6b6cc4f",
   "metadata": {},
   "source": [
    "## Ejemplo: Gram Schmidt l.d."
   ]
  },
  {
   "cell_type": "code",
   "execution_count": 53,
   "id": "1114795f-bc26-4c62-b12a-58d8763cfbca",
   "metadata": {},
   "outputs": [
    {
     "name": "stdout",
     "output_type": "stream",
     "text": [
      "qtilde =  [ 0. -2. -1. -4.  1.]\n",
      "qtilde =  [ 2.         -1.45454545 -3.72727273  1.09090909 -2.27272727]\n",
      "qtilde =  [-3.5862069  -1.48275862 -0.86206897  0.86206897 -0.37931034]\n",
      "qtilde =  [-0.93719008  2.35289256 -0.80413223 -1.39586777 -1.68181818]\n",
      "qtilde =  [-1.22124533e-15 -8.88178420e-16  3.33066907e-16  2.22044605e-16\n",
      "  2.22044605e-15]\n"
     ]
    },
    {
     "name": "stdin",
     "output_type": "stream",
     "text": [
      "Se encontro un vector l.d. Desea continuar? Y/N Y\n"
     ]
    },
    {
     "name": "stdout",
     "output_type": "stream",
     "text": [
      "*** Factorizacion A = QR: *** \n",
      "    Q = \n",
      " [[ 0.          0.38951783 -0.87783251 -0.27238815  0.        ]\n",
      " [-0.42640143 -0.28328569 -0.36294998  0.68385279  0.        ]\n",
      " [-0.21320072 -0.72591959 -0.21101743 -0.23371576  0.        ]\n",
      " [-0.85280287  0.21246427  0.21101743 -0.40569981  0.        ]\n",
      " [ 0.21320072 -0.44263389 -0.09284767 -0.48880943  0.        ]] \n",
      "    R = \n",
      " [[ 4.69041576  1.2792043  -0.42640143  1.91880645 -0.21320072]\n",
      " [ 0.          5.13455318 -1.06232135 -2.42563374 -8.90579396]\n",
      " [ 0.          0.          4.08529744 -2.14393709  6.22923453]\n",
      " [ 0.          0.          0.          3.44064188 -3.44064188]\n",
      " [ 0.          0.          0.          0.          0.        ]]\n",
      "  * Calculamos A - QR = \n",
      " [[ 0.00000000e+00  0.00000000e+00  0.00000000e+00 -3.95256482e-17\n",
      "  -8.88178420e-16]\n",
      " [ 0.00000000e+00  0.00000000e+00  0.00000000e+00  0.00000000e+00\n",
      "  -8.88178420e-16]\n",
      " [ 0.00000000e+00  0.00000000e+00 -2.72951389e-17 -4.44089210e-16\n",
      "   0.00000000e+00]\n",
      " [ 0.00000000e+00  4.77828559e-19  0.00000000e+00  0.00000000e+00\n",
      "   2.22044605e-16]\n",
      " [ 0.00000000e+00 -2.22044605e-16 -6.15346600e-18 -3.88477854e-16\n",
      "   1.77635684e-15]]\n",
      "  * Chequeamos si Q es ortogonal: ||Q^T Q - I|| =  1.0 \n",
      "\n",
      "  * Chequeamos si Q es ortogonal: Q^T Q =  [[ 1.00000000e+00  4.05629375e-17  1.51836960e-17  5.10684542e-17\n",
      "   0.00000000e+00]\n",
      " [ 4.05629375e-17  1.00000000e+00  3.76063522e-17 -9.07481921e-17\n",
      "   0.00000000e+00]\n",
      " [ 1.51836960e-17  3.76063522e-17  1.00000000e+00 -5.90325549e-17\n",
      "   0.00000000e+00]\n",
      " [ 5.10684542e-17 -9.07481921e-17 -5.90325549e-17  1.00000000e+00\n",
      "   0.00000000e+00]\n",
      " [ 0.00000000e+00  0.00000000e+00  0.00000000e+00  0.00000000e+00\n",
      "   0.00000000e+00]] \n",
      "\n"
     ]
    }
   ],
   "source": [
    "A = np.array([[ 0. , 2. ,-4.,  0., -8.],\n",
    "              [-2. ,-2., -1. , 3., -2.],\n",
    "              [-1., -4. , 0. , 1. , 6.],\n",
    "              [-4. , 0. , 1., -4. , 1.],\n",
    "              [ 1. ,-2. , 0. , 0. , 5.]], dtype=np.float64) #a5 = a1 - 2*a2 +a3 -a4\n",
    "\n",
    "Q,R = GramSchmidt_clasico(A)\n",
    "\n",
    "print(\"*** Factorizacion A = QR: *** \\n    Q = \\n\", Q, \"\\n    R = \\n\", R)\n",
    "print(\"  * Calculamos A - QR = \\n\", A - Q@R)\n",
    "print(\"  * Chequeamos si Q es ortogonal: ||Q^T Q - I|| = \", np.linalg.norm(Q.T@Q - np.eye(5)), \"\\n\")\n",
    "print(\"  * Chequeamos si Q es ortogonal: Q^T Q = \", Q.T@Q, \"\\n\")\n",
    "\n",
    "# print(a5)\n",
    "# R[0,4]*Q[:,0]+R[1,4]*Q[:,1]+R[2,4]*Q[:,2]+R[3,4]*Q[:,3]"
   ]
  },
  {
   "cell_type": "markdown",
   "id": "e04ee834-383b-47c6-97d3-e285cc8e21cd",
   "metadata": {},
   "source": [
    "## Ejemplo: QR linear solver"
   ]
  },
  {
   "cell_type": "code",
   "execution_count": 54,
   "id": "416805c6-b226-4ff0-942e-3d110bab4b90",
   "metadata": {},
   "outputs": [],
   "source": [
    "def sus_reg(U_input,b_input):\n",
    "    U = U_input.copy()\n",
    "    b = b_input.copy()\n",
    "    n = U.shape[0]\n",
    "    b[n-1] = b[n-1]/U[n-1,n-1]\n",
    "    for i in range(n-2,-1,-1):\n",
    "        b[i] = (b[i] - U[i,(i+1):n].dot(b[(i+1):n]))/U[i,i]\n",
    "    return b\n",
    "    \n",
    "def myQRsolver(A,b):\n",
    "    Q,R = GramSchmidt_clasico(A)\n",
    "    x = sus_reg(R, (Q.T).dot(b) )\n",
    "    return x"
   ]
  },
  {
   "cell_type": "code",
   "execution_count": 58,
   "id": "95addec7-7196-42a9-b0ae-1cd9224f6422",
   "metadata": {},
   "outputs": [
    {
     "name": "stdout",
     "output_type": "stream",
     "text": [
      "qtilde =  [1. 2. 3. 6.]\n",
      "qtilde =  [ 2.6  0.2 -0.2 -0.4]\n",
      "qtilde =  [-0.34285714  2.74285714  3.25714286 -2.48571429]\n",
      "qtilde =  [-0.01894737  0.15157895 -0.12        0.01263158]\n",
      "[-0.88888889  0.         -0.11111111  4.33333333] [-8.88888889e-01 -1.34279955e-15 -1.11111111e-01  4.33333333e+00]\n"
     ]
    }
   ],
   "source": [
    "A = np.array([[1,3,4,1],[2,1,5,1],[3,1,6,1],[6,2,3,2]],dtype=np.float64)\n",
    "b = np.array([3,2,1,3], dtype=np.float64)\n",
    "\n",
    "# Resolver el sistema de ecuaciones lineales para encontrar el flujo\n",
    "sol = np.linalg.solve(A, b)\n",
    "x = myQRsolver(A,b)\n",
    "print(sol,x)"
   ]
  },
  {
   "cell_type": "markdown",
   "id": "ecdfa545-adc2-4e48-a9e7-023d26fe8caa",
   "metadata": {},
   "source": [
    "## Ejemplo: Gram Schmidt comparacion\n",
    "\n",
    "Comparacion de algortimos de Gram-Schmidt clasico vs. Gram Schmidt modificado\n",
    "\n",
    "Resolvemos la factorizacion QR de la siguiente matriz\n",
    "\\begin{equation*}\n",
    "A = \n",
    "\\begin{bmatrix}\n",
    "1 & 1 & \\ldots &1 \\\\\n",
    "\\vdots &\\vdots & \\ddots &\\vdots \\\\\n",
    "1 & 1 & \\ldots &1\n",
    "\\end{bmatrix}\n",
    "+\\epsilon\n",
    "I, \\quad A\\in \\mathbb R^{10\\times 10}\n",
    "\\end{equation*}"
   ]
  },
  {
   "cell_type": "code",
   "execution_count": 60,
   "id": "bb861db2-999b-4dd7-8e8b-b5f3d6d14456",
   "metadata": {},
   "outputs": [],
   "source": [
    "def GramSchmidt_modificado(A):\n",
    "    m = A.shape[0]; n = A.shape[1];\n",
    "    R = np.zeros((n,n));\n",
    "    Q = np.zeros((m,n));\n",
    "    v = np.zeros((m,n));\n",
    "    for i in range(0, n):\n",
    "        v[:,i] = A[:,i];\n",
    "    for i in range(0, n):\n",
    "        R[i,i] = np.linalg.norm(v[:,i]);\n",
    "        Q[:,i] = (1.0/R[i,i])*v[:,i];\n",
    "        for j in range(i,n):\n",
    "            R[i,j] = np.dot(Q[:,i],v[:,j]);\n",
    "            v[:,j]= v[:,j] - R[i,j]*Q[:,i];\n",
    "    return Q, R"
   ]
  },
  {
   "cell_type": "code",
   "execution_count": 61,
   "id": "f00b434f-51b1-48b0-912f-48bbb93861d0",
   "metadata": {},
   "outputs": [
    {
     "name": "stdout",
     "output_type": "stream",
     "text": [
      "*** Gram-Schmidt clasico.\n",
      "\n",
      "    || A - QR ||2    : 9.019494489765868e-16\n",
      "    || Q.T@Q - I ||2 : 0.3674695563835977\n",
      "    || q1*q2 ||2     : -0.005948312637853892\n",
      "\n",
      "\n",
      " \n",
      "*** Gram-Schmidt modified.\n",
      "\n",
      "    || A - QR ||2    : 1.0295784775289034e-15\n",
      "    || Q.T@Q - I ||2 : 7.830815093173928e-09\n",
      "    || q1*q2 ||2     : -4.440892098500626e-16\n",
      "\n",
      "\n",
      " \n",
      "*** QR numpy.\n",
      "\n",
      "    || A - QR ||2    : 1.85775845048325e-15\n",
      "    || Q.T@Q - I ||2 : 1.3318071099412356e-15\n",
      "    || q1*q2 ||2     : 1.1102230246251565e-16\n"
     ]
    }
   ],
   "source": [
    "ep = 10**(-7)\n",
    "A = np.ones((10,10)) + ep*np.eye((10));\n",
    "#print(A)\n",
    "Q, R = GramSchmidt_clasico(A)\n",
    "print(\"*** Gram-Schmidt clasico.\\n\")\n",
    "print(\"    || A - QR ||2    :\", np.linalg.norm(A -np.dot(Q,R)))\n",
    "print(\"    || Q.T@Q - I ||2 :\", np.linalg.norm(Q.T@ Q-np.eye(10)))\n",
    "print(\"    || q1*q2 ||2     :\", np.dot(Q[:,1], Q[:,2]))\n",
    "\n",
    "Q, R = GramSchmidt_modificado(A)\n",
    "print(\"\\n\\n \")\n",
    "print(\"*** Gram-Schmidt modified.\\n\")\n",
    "print(\"    || A - QR ||2    :\", np.linalg.norm(A -np.dot(Q,R)))\n",
    "print(\"    || Q.T@Q - I ||2 :\", np.linalg.norm(np.dot(Q.T, Q)-np.eye(10)))\n",
    "print(\"    || q1*q2 ||2     :\", np.dot(Q[:,1], Q[:,2]))\n",
    "\n",
    "Q, R = np.linalg.qr(A)\n",
    "\n",
    "print(\"\\n\\n \")\n",
    "print(\"*** QR numpy.\\n\")\n",
    "print(\"    || A - QR ||2    :\", np.linalg.norm(A -np.dot(Q,R)))\n",
    "print(\"    || Q.T@Q - I ||2 :\", np.linalg.norm(np.dot(Q.T, Q)-np.eye(10)))\n",
    "print(\"    || q1*q2 ||2     :\", np.dot(Q[:,1], Q[:,2]))"
   ]
  },
  {
   "cell_type": "markdown",
   "id": "02e8f91b-6bde-4f8b-9462-6291ae04ab1a",
   "metadata": {},
   "source": [
    "## Ejemplo: Algoritmo Householder\n"
   ]
  },
  {
   "cell_type": "code",
   "execution_count": 62,
   "id": "4cc88c01-438b-46df-b084-b247bb083473",
   "metadata": {},
   "outputs": [],
   "source": [
    "def house(x):\n",
    "    '''\n",
    "    Compute Householder vector\n",
    "    Input: x \\in \\mathbb R^{m}\n",
    "    Output: Householder vector v, with v[0]=1, and beta such that\n",
    "            P = I-beta * v * v.T es orthogonal and Px = \\|x\\|*e_1\n",
    "    '''\n",
    "    m = x.size\n",
    "    if m > 1:\n",
    "        sigma = x[1:].dot(x[1:])\n",
    "        v  = x.copy(); v[0] = 1.0\n",
    "        if sigma == 0:\n",
    "            beta = 0\n",
    "        else:\n",
    "            mu = np.sqrt(x[0]*x[0]+sigma)\n",
    "            if x[0]<0:\n",
    "                v[0] = x[0] - mu\n",
    "            else:\n",
    "                v[0] = -sigma/(x[0]+mu)\n",
    "            beta = 2.0 * v[0]*v[0]/(sigma+v[0]**2)\n",
    "            v = v / v[0]\n",
    "        return v, beta\n",
    "    else:\n",
    "        return np.array([0.0]),0.0\n",
    "\n",
    "def applyP(v, beta, x):\n",
    "    # compute Px = (I - beta v v^T )x\n",
    "    return x - beta * v.dot(x) * v\n",
    "\n",
    "def Householder_qr(Ain):\n",
    "    ''' \n",
    "    Compute QR decomposition using Householder\n",
    "    update A in place with QR ... R is upper triangular (at and above diagonal)\n",
    "    below the diagonal, A holds the \"essential\" parts of the Householder vectors.\n",
    "    the essential part gets shorter because they are only applied to the remaining\n",
    "    bottom right square of A\n",
    "    Input : A, m\\times n matrix\n",
    "    Output: overwrite A\n",
    "    '''\n",
    "    A = Ain.copy()\n",
    "    m,n = A.shape\n",
    "    betas = np.empty(n)\n",
    "    for j in range(n):\n",
    "        # usando funcion house\n",
    "        v, betas[j] = house(A[j:, j])\n",
    "        A[j:,j:] -= betas[j] * np.outer(v, v.dot(A[j:,j:]))\n",
    "        if j < m:\n",
    "            A[j+1:,j] = v[1:m-j+1]\n",
    "    \n",
    "    R = np.triu(A)\n",
    "    Q = fullQ_house(A, betas)\n",
    "    return Q, R\n",
    "\n",
    "def fullQ_house(A, betas):\n",
    "    '''\n",
    "    Take the \"packed\" Householder vectors stored in A's lower triangle,\n",
    "    along with the respective \\beta s and expand to a full Q matrix \n",
    "        (note, R still lives in A's upper triangle)\n",
    "    '''\n",
    "    m,n = A.shape\n",
    "    Q = np.eye(n)\n",
    "    for j in reversed(range(n)):\n",
    "        v = A[j:,j].copy()\n",
    "        v[0] = 1.0\n",
    "        Q[j:,j:] = (np.eye(n-j) - betas[j] * np.outer(v,v)).dot(Q[j:,j:])\n",
    "    return Q"
   ]
  },
  {
   "cell_type": "code",
   "execution_count": 63,
   "id": "cf680ddf-f7f2-4450-9b48-0c68deef0148",
   "metadata": {},
   "outputs": [],
   "source": [
    "def compare(M):\n",
    "    # compare three QR decomposition: 1) Gram-Schmidt clasico, 2) Gram-Schmidt modificado, 3) Householder\n",
    "    \n",
    "    Q, R = GramSchmidt_clasico(M);\n",
    "    \n",
    "    errorQRLinf = np.linalg.norm(np.matmul(Q,R) - M, np.inf)\n",
    "    errororthLinf = np.linalg.norm(np.matmul(Q.T,Q) - np.eye(Q.shape[0]), np.inf)\n",
    "    \n",
    "    print(\"*** Gram-Schmidt clasico.\\n\")\n",
    "    print(\"    ||Q*R-M ||_inf   : \",errorQRLinf)\n",
    "    print(\"    ||Q'*Q - I||_inf : \", errororthLinf)\n",
    "    \n",
    "    \n",
    "    Q, R = GramSchmidt_modificado(M);\n",
    "    \n",
    "    errorQRLinf = np.linalg.norm(np.matmul(Q,R) - M, np.inf)\n",
    "    errororthLinf = np.linalg.norm(np.matmul(Q.T,Q) - np.eye(Q.shape[0]), np.inf)\n",
    "    \n",
    "    print(\"\\n\\n \")\n",
    "    print(\"*** Gram-Schmidt modified.\\n\")\n",
    "    print(\"    ||Q*R-M ||_inf   : \",errorQRLinf)\n",
    "    print(\"    ||Q'*Q - I||_inf : \", errororthLinf)\n",
    "\n",
    "    Q, R = Householder_qr(M)\n",
    "    errorQRLinf = np.linalg.norm(np.matmul(Q,R) - M, np.inf)\n",
    "    errororthLinf = np.linalg.norm(np.matmul(Q.T,Q) - np.eye(Q.shape[0]), np.inf)\n",
    "    \n",
    "    print(\"\\n\\n\")\n",
    "    print(\"*** Householder.\\n\")\n",
    "    print(\"    ||Q*R-M ||_inf   : \",errorQRLinf)\n",
    "    print(\"    ||Q'*Q - I||_inf : \", errororthLinf)\n",
    "    \n",
    "\n",
    "    Q, R = np.linalg.qr(M)\n",
    "    errorQRLinf = np.linalg.norm(np.matmul(Q,R) - M, np.inf)\n",
    "    errororthLinf = np.linalg.norm(np.matmul(Q.T,Q) - np.eye(Q.shape[0]), np.inf)\n",
    "    \n",
    "    print(\"\\n\\n\")\n",
    "    print(\"*** Householder numpy qr.\\n\")\n",
    "    print(\"    ||Q*R-M ||_inf   : \",errorQRLinf)\n",
    "    print(\"    ||Q'*Q - I||_inf : \", errororthLinf)\n",
    "    pass"
   ]
  },
  {
   "cell_type": "code",
   "execution_count": 64,
   "id": "659e8246-2e66-40e8-8b60-4f6924249468",
   "metadata": {},
   "outputs": [
    {
     "name": "stdout",
     "output_type": "stream",
     "text": [
      "*** Gram-Schmidt clasico.\n",
      "\n",
      "    ||Q*R-M ||_inf   :  2.220446049250313e-16\n",
      "    ||Q'*Q - I||_inf :  8.9898295762051\n",
      "\n",
      "\n",
      " \n",
      "*** Gram-Schmidt modified.\n",
      "\n",
      "    ||Q*R-M ||_inf   :  3.677613769070831e-16\n",
      "    ||Q'*Q - I||_inf :  1.686092924942988\n",
      "\n",
      "\n",
      "\n",
      "*** Householder.\n",
      "\n",
      "    ||Q*R-M ||_inf   :  5.134781488891349e-16\n",
      "    ||Q'*Q - I||_inf :  2.1531783556771636e-15\n",
      "\n",
      "\n",
      "\n",
      "*** Householder numpy qr.\n",
      "\n",
      "    ||Q*R-M ||_inf   :  2.525757381022231e-15\n",
      "    ||Q'*Q - I||_inf :  1.7117187533665325e-15\n"
     ]
    }
   ],
   "source": [
    "from scipy.linalg import hilbert\n",
    "H = hilbert(16)\n",
    "#print(H)\n",
    "compare(H)"
   ]
  },
  {
   "cell_type": "markdown",
   "id": "4f25dc0e-664c-449f-af28-ad121e3b72ac",
   "metadata": {},
   "source": [
    "## Algoritmo rotaciones de Givens"
   ]
  },
  {
   "cell_type": "code",
   "execution_count": 77,
   "id": "e74eb661-952c-4b69-be74-9b2d1c26ff6d",
   "metadata": {},
   "outputs": [],
   "source": [
    "def Givens(a,b):\n",
    "    if b == 0:\n",
    "        c = 1; s = 0\n",
    "        return c, s\n",
    "    else:\n",
    "        if abs(b) > abs(a):\n",
    "            tau = -a/b; s = 1.0/np.sqrt(1.0+tau*tau); c = s*tau\n",
    "            return c, s\n",
    "        else:\n",
    "            tau = -b/a; c = 1.0/np.sqrt(1.0+tau*tau); s = c*tau\n",
    "            return c, s\n",
    "\n",
    "def computeGx(i,k,x):\n",
    "    y = x.copy()\n",
    "    (c, s) = Givens(x[i],x[k])  \n",
    "    print(c,s)\n",
    "    y[i] = c*x[i] - s*x[k]\n",
    "    y[k] = s*x[i] + c*x[k]\n",
    "    return y\n",
    "\n",
    "def Givens_qr(Ain, plot=True):\n",
    "    '''\n",
    "    Compute QR decomposition of A m\\times n\n",
    "    Input :\n",
    "    Output:\n",
    "    '''\n",
    "    if plot:\n",
    "        fig,ax = plt.subplots(3,4)\n",
    "        listax = [axi for axi in ax.reshape(-1)]\n",
    "        k= 0 \n",
    "        listax[k].spy(A,precision=1e-14)\n",
    "        k+=1\n",
    "        \n",
    "    A = Ain.copy()\n",
    "    m, n = A.shape\n",
    "    \n",
    "    for j in range(n):\n",
    "        for i in reversed(range(j+1,m)):\n",
    "            (c, s) = Givens(A[i-1,j],A[i,j])  \n",
    "            A[[i-1,i],j:] = np.array([[c,-s],[s,c]])@A[[i-1,i],j:]\n",
    "            if plot:\n",
    "                listax[k].spy(A,precision=1e-14)\n",
    "                k+=1\n",
    "    plt.show()\n",
    "    return A"
   ]
  },
  {
   "cell_type": "code",
   "execution_count": 78,
   "id": "2a8baf54-21cc-421a-a421-7670c782a87f",
   "metadata": {},
   "outputs": [
    {
     "name": "stdout",
     "output_type": "stream",
     "text": [
      "0.4472135954999579 -0.8944271909999159\n",
      "-0.4472135954999579 0.8944271909999159\n"
     ]
    },
    {
     "data": {
      "image/png": "[encoded data removed]",
      "text/plain": [
       "<Figure size 640x480 with 12 Axes>"
      ]
     },
     "metadata": {},
     "output_type": "display_data"
    }
   ],
   "source": [
    "## ejemplo\n",
    "np.set_printoptions(precision=6)\n",
    "x = np.array([1.0,2.0,3.0,4.0])\n",
    "print(1.0/np.sqrt(5.0), -2.0/np.sqrt(5.0))\n",
    "computeGx(1,3,x)\n",
    "A = hilbert(5)\n",
    "newA = Givens_qr(A)\n"
   ]
  },
  {
   "cell_type": "code",
   "execution_count": null,
   "id": "b0065c8e-d7d0-4a37-83a8-a3a44a08b5b2",
   "metadata": {},
   "outputs": [],
   "source": []
  }
 ],
 "metadata": {
  "kernelspec": {
   "display_name": "Python 3",
   "language": "python",
   "name": "python3"
  },
  "language_info": {
   "codemirror_mode": {
    "name": "ipython",
    "version": 3
   },
   "file_extension": ".py",
   "mimetype": "text/x-python",
   "name": "python",
   "nbconvert_exporter": "python",
   "pygments_lexer": "ipython3",
   "version": "3.8.5"
  }
 },
 "nbformat": 4,
 "nbformat_minor": 5
}
