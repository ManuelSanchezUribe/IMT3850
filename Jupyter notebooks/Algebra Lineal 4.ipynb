{
 "cells": [
  {
   "cell_type": "markdown",
   "metadata": {},
   "source": [
    "<hr style=\"border:1px solid #FEC60D\"> </hr>\n",
    "<center><h1 style=\"color:#173F8A;\"> FUNDAMENTOS MATEMATICOS PARA INTELIGENCIA ARTIFICIAL</h1></center> \n",
    "<center><h1 style=\"color:#173F8A;\"> IMT 3850, 2022 </h1></center>\n",
    "<hr style=\"border:1px solid #FEC60D\"> </hr>\n",
    "<center><h3 style=\"color:#0176DE;text-align:right;\"> Profesor. Manuel A. Sanchez<br></h3></center>\n",
    "<h3 style=\"color:#03122E;text-align:right;\"> Magister en Inteligencia Artificial - MIA <br> Instituto de Ingenieria Matematica y Computacional - IMC<br>  Pontificia Universidad Catolica de Chile<br>   </h3>\n",
    "\n",
    "\n",
    "\n",
    "\n",
    "<!-- Palette colors UC:\n",
    "Primaria: \n",
    "celeste:#0176DE, azul #173F8A, azul oscuro: #03122E, amarillo: #FEC60D, amarillo oscuro: #E3AE00 \n",
    "Secundaria\n",
    "gris oscuro: #707070\n",
    "-->"
   ]
  },
  {
   "cell_type": "markdown",
   "metadata": {},
   "source": [
    "<hr style=\"border:2px solid #03122E\"> </hr>\n",
    "<center><h1 style=\"color:#173F8A;\"> Algebra Lineal para IA - clase 4</h1></center> \n",
    "<hr style=\"border:2px solid #03122E\"> </hr>"
   ]
  },
  {
   "cell_type": "code",
   "execution_count": 17,
   "metadata": {},
   "outputs": [],
   "source": [
    "from numpy.random import rand, randint\n",
    "from numpy import linspace, meshgrid\n",
    "#from matplotlib.pyplot import imshow, plot, axis\n",
    "#import matplotlib.pyplot as plt\n",
    "import numpy as np\n",
    "import scipy as sp\n",
    "import time\n",
    "from scipy.linalg import lu\n",
    "np.set_printoptions(precision=12)"
   ]
  },
  {
   "cell_type": "markdown",
   "metadata": {},
   "source": [
    "<center><h1 style=\"color:#173F8A;\"> Minimos cuadrados </h1></center> \n"
   ]
  },
  {
   "cell_type": "markdown",
   "metadata": {},
   "source": [
    "## Ejemplo:\n",
    "\\begin{equation}\n",
    "\\mathrm{minimizar}\\{ \\|Ax -b\\|, x\\in \\mathbb R^{3} \\},\\qquad\\mbox{con }\n",
    "A = \n",
    "\\begin{pmatrix}\n",
    "2&0\\\\\n",
    "-1&1\\\\\n",
    "0&2\n",
    "\\end{pmatrix},\\qquad\n",
    "b = \n",
    "\\begin{pmatrix}\n",
    "1\\\\0\\\\-1\n",
    "\\end{pmatrix}\n",
    "\\end{equation}"
   ]
  },
  {
   "cell_type": "code",
   "execution_count": 20,
   "metadata": {},
   "outputs": [
    {
     "name": "stdout",
     "output_type": "stream",
     "text": [
      "[ 0.333333333333 -0.333333333333] 0.6666666666666666\n",
      "[ 0.333333333333 -0.333333333333] 0.6666666666666666\n",
      "[ 0.333333333333 -0.333333333333] 0.6666666666666666\n",
      "[ 0.333333333333 -0.333333333333] 0.6666666666666666\n"
     ]
    }
   ],
   "source": [
    "A = np.array([[2,0],[-1,1],[0,2]], dtype=np.float64)\n",
    "b = np.array([1,0,-1], dtype=np.float64)\n",
    "\n",
    "x1,r1 = LS_normaleqns(A,b)\n",
    "print(x1,r1**2)\n",
    "\n",
    "x2,r2 = LS_viaQR(A,b)\n",
    "print(x2,r2**2)\n",
    "\n",
    "x3,r3 = LS_viaSVD(A,b)\n",
    "print(x3,r3**2)\n",
    "\n",
    "x4,r4 = LS_viaLinearsystem(A,b)\n",
    "print(x4,r4**2)"
   ]
  },
  {
   "cell_type": "markdown",
   "metadata": {},
   "source": [
    "## Algoritmos para resolver minimos cuadrados:\n",
    "1. Ecuaciones normales\n",
    "2. via QR\n",
    "3. via SVD"
   ]
  },
  {
   "cell_type": "code",
   "execution_count": 19,
   "metadata": {},
   "outputs": [],
   "source": [
    "def LS_normaleqns(A,b):\n",
    "    ATA = A.T@A\n",
    "    ATb = A.T.dot(b)\n",
    "\n",
    "    L = np.linalg.cholesky(ATA) # A.T@A = R@R.T\n",
    "    w = sp.linalg.solve_triangular(L, ATb, lower=True)\n",
    "    x = sp.linalg.solve_triangular(L.T, w)\n",
    "    r = np.linalg.norm(A.dot(x)-b)\n",
    "    return x, r\n",
    "\n",
    "def LS_viaQR(A,b):\n",
    "    Q,R = np.linalg.qr(A)\n",
    "    x = sp.linalg.solve_triangular(R, Q.T.dot(b))\n",
    "    r = np.linalg.norm(A.dot(x)-b)\n",
    "    return x, r\n",
    "\n",
    "def LS_viaSVD(A,b):\n",
    "    U,S,V = np.linalg.svd(A, full_matrices=True) # A = U@S@V\n",
    "    UTb = U.T.dot(b)\n",
    "    w = np.zeros(len(S), dtype=np.float64)\n",
    "    for j in range(len(S)):\n",
    "        w[j] = UTb[j]/S[j]\n",
    "    x = V.T.dot(w)\n",
    "    r = np.linalg.norm(A.dot(x)-b)\n",
    "    return x, r\n",
    "\n",
    "def LS_viaLinearsystem(A,b):\n",
    "    m,n = A.shape\n",
    "    B = np.zeros((m+n, m+n), dtype=np.float64)\n",
    "    B[n:(m+n),:n] = A.copy()\n",
    "    B[:n,n:(m+n)] = A.T.copy()\n",
    "    B[n:(m+n), n:(m+n)] = np.eye(m)\n",
    "    bb = np.zeros(n+m,dtype=np.float64)\n",
    "    bb[n:(m+n)] = b.copy()\n",
    "    xy = np.linalg.solve(B,bb)\n",
    "    x = xy[:n]\n",
    "    r = np.linalg.norm(A.dot(x)-b)\n",
    "    return x, r"
   ]
  },
  {
   "cell_type": "markdown",
   "metadata": {},
   "source": [
    "## Ejemplos de Boyd Vandenbergue"
   ]
  },
  {
   "cell_type": "markdown",
   "metadata": {},
   "source": [
    "### 1. Advertising purchases.\n",
    "We have m demographic groups or audiences that we want to advertise to, with a target number of impressions or views for each group, which we give as a vector $v^{des}$. (The entries are positive.) To reach these audiences, we purchase advertising in n different channels (say, different web publishers, radio,\n",
    "print, . . . ), in amounts that we give as an $n$-vector s. (The entries of s are non-\n",
    "negative, which we ignore.) The $m \\times n$ matrix $R$ gives the number of impressions\n",
    "in each group per dollar spending in the channels: $R_{ij}$ is the number of impres-\n",
    "sions in group $i$ per dollar spent on advertising in channel $j$. (These entries are\n",
    "estimated, and are nonnegative.) The $j$th column of $R$ gives the effectiveness or\n",
    "reach (in impressions per dollar) for channel $j$. The $i$th row of $R$ shows which\n",
    "media demographic group $i$ is exposed to. The total number of impressions in each\n",
    "demographic group is the $m$-vector $v$, which is given by $v = Rs$. The goal is to\n",
    "find $s$ so that $v = Rs\\approx v^{des}$ . We can do this using least squares, by choosing \n",
    "$s$ to minimize $\\| Rs − v^{des} \\|^2$ . (We are not guaranteed that the resulting channel spend vector will be nonnegative.) "
   ]
  },
  {
   "cell_type": "code",
   "execution_count": 80,
   "metadata": {},
   "outputs": [],
   "source": [
    "R = np.array([[0.97, 1.86, 0.41 ],\n",
    "              [1.23, 2.18, 0.53 ],\n",
    "              [0.80, 1.24, 0.62 ],\n",
    "              [1.29, 0.98, 0.51 ],\n",
    "              [1.10, 1.23, 0.69 ],\n",
    "              [0.67, 0.34, 0.54 ],\n",
    "              [0.87, 0.26, 0.62 ],\n",
    "              [1.10, 0.16, 0.48 ],\n",
    "              [1.92, 0.22, 0.71 ],\n",
    "              [1.29, 0.12, 0.62]], dtype=np.float64)\n",
    "b = np.ones(10)*10**3 # v^des"
   ]
  },
  {
   "cell_type": "code",
   "execution_count": 84,
   "metadata": {},
   "outputs": [
    {
     "name": "stdout",
     "output_type": "stream",
     "text": [
      "[-162.250207057996   59.025412117396   68.201931405684  -86.088744494712\n",
      "  186.823691106442 -145.281530413751  -25.438008823944 -223.156130337456\n",
      "  165.598418414679  -13.363727079483]\n",
      "[  62.076624543851   99.985004028263 1442.837462541222]\n",
      "0.816496580927726\n"
     ]
    }
   ],
   "source": [
    "s, residual = LS_viaSVD(R,b)\n",
    "print(R.dot(s)-b)\n",
    "print(s)\n",
    "print(r)"
   ]
  },
  {
   "cell_type": "markdown",
   "metadata": {},
   "source": [
    "### Regression precio de casas - revisitado"
   ]
  },
  {
   "cell_type": "code",
   "execution_count": 1,
   "metadata": {},
   "outputs": [],
   "source": [
    "import pandas as pd\n",
    "import numpy as np\n",
    "import matplotlib.pyplot as plt"
   ]
  },
  {
   "cell_type": "code",
   "execution_count": 3,
   "metadata": {},
   "outputs": [
    {
     "data": {
      "text/html": [
       "<div>\n",
       "<style scoped>\n",
       "    .dataframe tbody tr th:only-of-type {\n",
       "        vertical-align: middle;\n",
       "    }\n",
       "\n",
       "    .dataframe tbody tr th {\n",
       "        vertical-align: top;\n",
       "    }\n",
       "\n",
       "    .dataframe thead th {\n",
       "        text-align: right;\n",
       "    }\n",
       "</style>\n",
       "<table border=\"1\" class=\"dataframe\">\n",
       "  <thead>\n",
       "    <tr style=\"text-align: right;\">\n",
       "      <th></th>\n",
       "      <th>price</th>\n",
       "      <th>area</th>\n",
       "      <th>bedrooms</th>\n",
       "      <th>bathrooms</th>\n",
       "      <th>stories</th>\n",
       "      <th>mainroad</th>\n",
       "      <th>guestroom</th>\n",
       "      <th>basement</th>\n",
       "      <th>hotwaterheating</th>\n",
       "      <th>airconditioning</th>\n",
       "      <th>parking</th>\n",
       "      <th>prefarea</th>\n",
       "      <th>furnishingstatus</th>\n",
       "    </tr>\n",
       "  </thead>\n",
       "  <tbody>\n",
       "    <tr>\n",
       "      <th>0</th>\n",
       "      <td>13300000</td>\n",
       "      <td>7420</td>\n",
       "      <td>4</td>\n",
       "      <td>2</td>\n",
       "      <td>3</td>\n",
       "      <td>yes</td>\n",
       "      <td>no</td>\n",
       "      <td>no</td>\n",
       "      <td>no</td>\n",
       "      <td>yes</td>\n",
       "      <td>2</td>\n",
       "      <td>yes</td>\n",
       "      <td>furnished</td>\n",
       "    </tr>\n",
       "    <tr>\n",
       "      <th>1</th>\n",
       "      <td>12250000</td>\n",
       "      <td>8960</td>\n",
       "      <td>4</td>\n",
       "      <td>4</td>\n",
       "      <td>4</td>\n",
       "      <td>yes</td>\n",
       "      <td>no</td>\n",
       "      <td>no</td>\n",
       "      <td>no</td>\n",
       "      <td>yes</td>\n",
       "      <td>3</td>\n",
       "      <td>no</td>\n",
       "      <td>furnished</td>\n",
       "    </tr>\n",
       "    <tr>\n",
       "      <th>2</th>\n",
       "      <td>12250000</td>\n",
       "      <td>9960</td>\n",
       "      <td>3</td>\n",
       "      <td>2</td>\n",
       "      <td>2</td>\n",
       "      <td>yes</td>\n",
       "      <td>no</td>\n",
       "      <td>yes</td>\n",
       "      <td>no</td>\n",
       "      <td>no</td>\n",
       "      <td>2</td>\n",
       "      <td>yes</td>\n",
       "      <td>semi-furnished</td>\n",
       "    </tr>\n",
       "    <tr>\n",
       "      <th>3</th>\n",
       "      <td>12215000</td>\n",
       "      <td>7500</td>\n",
       "      <td>4</td>\n",
       "      <td>2</td>\n",
       "      <td>2</td>\n",
       "      <td>yes</td>\n",
       "      <td>no</td>\n",
       "      <td>yes</td>\n",
       "      <td>no</td>\n",
       "      <td>yes</td>\n",
       "      <td>3</td>\n",
       "      <td>yes</td>\n",
       "      <td>furnished</td>\n",
       "    </tr>\n",
       "    <tr>\n",
       "      <th>4</th>\n",
       "      <td>11410000</td>\n",
       "      <td>7420</td>\n",
       "      <td>4</td>\n",
       "      <td>1</td>\n",
       "      <td>2</td>\n",
       "      <td>yes</td>\n",
       "      <td>yes</td>\n",
       "      <td>yes</td>\n",
       "      <td>no</td>\n",
       "      <td>yes</td>\n",
       "      <td>2</td>\n",
       "      <td>no</td>\n",
       "      <td>furnished</td>\n",
       "    </tr>\n",
       "  </tbody>\n",
       "</table>\n",
       "</div>"
      ],
      "text/plain": [
       "      price  area  bedrooms  bathrooms  stories mainroad guestroom basement  \\\n",
       "0  13300000  7420         4          2        3      yes        no       no   \n",
       "1  12250000  8960         4          4        4      yes        no       no   \n",
       "2  12250000  9960         3          2        2      yes        no      yes   \n",
       "3  12215000  7500         4          2        2      yes        no      yes   \n",
       "4  11410000  7420         4          1        2      yes       yes      yes   \n",
       "\n",
       "  hotwaterheating airconditioning  parking prefarea furnishingstatus  \n",
       "0              no             yes        2      yes        furnished  \n",
       "1              no             yes        3       no        furnished  \n",
       "2              no              no        2      yes   semi-furnished  \n",
       "3              no             yes        3      yes        furnished  \n",
       "4              no             yes        2       no        furnished  "
      ]
     },
     "execution_count": 3,
     "metadata": {},
     "output_type": "execute_result"
    }
   ],
   "source": [
    "housing = pd.read_csv('Housing.csv.xls')\n",
    "housing.head()"
   ]
  },
  {
   "cell_type": "code",
   "execution_count": 5,
   "metadata": {},
   "outputs": [],
   "source": [
    "from sklearn.model_selection import train_test_split\n",
    "np.random.seed(0)\n",
    "df_train, df_test = train_test_split(housing, train_size = 0.7, test_size = 0.3, random_state = 100)"
   ]
  },
  {
   "cell_type": "code",
   "execution_count": 6,
   "metadata": {},
   "outputs": [],
   "source": [
    "y_train = df_train.pop('price')\n",
    "X_train = df_train[['area', 'bedrooms']]"
   ]
  },
  {
   "cell_type": "markdown",
   "metadata": {},
   "source": [
    "### Sklearn regression"
   ]
  },
  {
   "cell_type": "code",
   "execution_count": 8,
   "metadata": {},
   "outputs": [
    {
     "data": {
      "image/png": "[encoded data removed]",
      "text/plain": [
       "<Figure size 432x288 with 1 Axes>"
      ]
     },
     "metadata": {
      "needs_background": "light"
     },
     "output_type": "display_data"
    }
   ],
   "source": [
    "from sklearn.linear_model import LinearRegression\n",
    "lm = LinearRegression()\n",
    "lm.fit(X_train, y_train)\n",
    "\n",
    "y_pred = lm.predict(X_train)\n",
    "plt.scatter(y_train, y_pred); plt.show()"
   ]
  },
  {
   "cell_type": "markdown",
   "metadata": {},
   "source": [
    "### Regresion usando minimos cuadrados via QR"
   ]
  },
  {
   "cell_type": "code",
   "execution_count": 24,
   "metadata": {},
   "outputs": [
    {
     "data": {
      "image/png": "[encoded data removed]",
      "text/plain": [
       "<Figure size 432x288 with 1 Axes>"
      ]
     },
     "metadata": {
      "needs_background": "light"
     },
     "output_type": "display_data"
    }
   ],
   "source": [
    "N,n = X_train.shape\n",
    "A = np.hstack((np.ones((N,1)), X_train.copy()))\n",
    "b = y_train.copy()\n",
    "x, r = LS_viaQR(A,b)\n",
    "my_y_pred = A.dot(x)\n",
    "plt.scatter(y_train, my_y_pred); plt.show()"
   ]
  },
  {
   "cell_type": "markdown",
   "metadata": {},
   "source": [
    "### Cross - validation"
   ]
  },
  {
   "cell_type": "code",
   "execution_count": null,
   "metadata": {},
   "outputs": [
    {
     "name": "stderr",
     "output_type": "stream",
     "text": [
      "C:\\Users\\msanc\\AppData\\Local\\Programs\\Python\\Python37\\lib\\site-packages\\sklearn\\model_selection\\_split.py:680: UserWarning: The least populated class in y has only 1 members, which is less than n_splits=5.\n",
      "  UserWarning,\n"
     ]
    }
   ],
   "source": [
    "from sklearn import svm\n",
    "from sklearn.model_selection import cross_val_score\n",
    "y = housing.pop('price')\n",
    "X = housing[['area', 'bedrooms']]\n",
    "\n",
    "clf = svm.SVC(kernel='linear', C=1, random_state=42)\n",
    "scores = cross_val_score(clf, X, y, cv=5)\n",
    "print(scores)"
   ]
  },
  {
   "cell_type": "code",
   "execution_count": null,
   "metadata": {},
   "outputs": [],
   "source": []
  }
 ],
 "metadata": {
  "hide_input": false,
  "kernelspec": {
   "display_name": "Python 3",
   "language": "python",
   "name": "python3"
  },
  "language_info": {
   "codemirror_mode": {
    "name": "ipython",
    "version": 3
   },
   "file_extension": ".py",
   "mimetype": "text/x-python",
   "name": "python",
   "nbconvert_exporter": "python",
   "pygments_lexer": "ipython3",
   "version": "3.8.5"
  },
  "toc": {
   "base_numbering": 1,
   "nav_menu": {},
   "number_sections": false,
   "sideBar": true,
   "skip_h1_title": false,
   "title_cell": "Table of Contents",
   "title_sidebar": "Contents",
   "toc_cell": false,
   "toc_position": {},
   "toc_section_display": true,
   "toc_window_display": false
  }
 },
 "nbformat": 4,
 "nbformat_minor": 4
}
